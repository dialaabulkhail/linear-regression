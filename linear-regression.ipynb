{
 "cells": [
  {
   "cell_type": "markdown",
   "id": "e22572c1",
   "metadata": {
    "_cell_guid": "b1076dfc-b9ad-4769-8c92-a6c4dae69d19",
    "_uuid": "8f2839f25d086af736a60e9eeb907d3b93b6e0e5",
    "papermill": {
     "duration": 0.020808,
     "end_time": "2022-04-03T15:45:27.135564",
     "exception": false,
     "start_time": "2022-04-03T15:45:27.114756",
     "status": "completed"
    },
    "tags": []
   },
   "source": [
    "# Linear Regression\n",
    "## Predicting weigth based on height data\n",
    "### Diala Abul-Khail\n",
    "### 2022-03-04"
   ]
  },
  {
   "cell_type": "code",
   "execution_count": 1,
   "id": "e62130d3",
   "metadata": {
    "execution": {
     "iopub.execute_input": "2022-04-03T15:45:27.187679Z",
     "iopub.status.busy": "2022-04-03T15:45:27.186683Z",
     "iopub.status.idle": "2022-04-03T15:45:28.427850Z",
     "shell.execute_reply": "2022-04-03T15:45:28.426776Z",
     "shell.execute_reply.started": "2022-04-03T15:44:30.494466Z"
    },
    "papermill": {
     "duration": 1.271987,
     "end_time": "2022-04-03T15:45:28.428045",
     "exception": false,
     "start_time": "2022-04-03T15:45:27.156058",
     "status": "completed"
    },
    "tags": []
   },
   "outputs": [],
   "source": [
    "import pandas as pd\n",
    "import matplotlib.pyplot as plt\n",
    "from sklearn.linear_model import LinearRegression\n",
    "from sklearn.model_selection import train_test_split"
   ]
  },
  {
   "cell_type": "code",
   "execution_count": 2,
   "id": "b181f0f4",
   "metadata": {
    "execution": {
     "iopub.execute_input": "2022-04-03T15:45:28.470910Z",
     "iopub.status.busy": "2022-04-03T15:45:28.469941Z",
     "iopub.status.idle": "2022-04-03T15:45:28.502351Z",
     "shell.execute_reply": "2022-04-03T15:45:28.502855Z",
     "shell.execute_reply.started": "2022-04-03T15:44:30.634183Z"
    },
    "papermill": {
     "duration": 0.055267,
     "end_time": "2022-04-03T15:45:28.503035",
     "exception": false,
     "start_time": "2022-04-03T15:45:28.447768",
     "status": "completed"
    },
    "tags": []
   },
   "outputs": [
    {
     "data": {
      "text/html": [
       "<div>\n",
       "<style scoped>\n",
       "    .dataframe tbody tr th:only-of-type {\n",
       "        vertical-align: middle;\n",
       "    }\n",
       "\n",
       "    .dataframe tbody tr th {\n",
       "        vertical-align: top;\n",
       "    }\n",
       "\n",
       "    .dataframe thead th {\n",
       "        text-align: right;\n",
       "    }\n",
       "</style>\n",
       "<table border=\"1\" class=\"dataframe\">\n",
       "  <thead>\n",
       "    <tr style=\"text-align: right;\">\n",
       "      <th></th>\n",
       "      <th>Height</th>\n",
       "      <th>Weight</th>\n",
       "    </tr>\n",
       "  </thead>\n",
       "  <tbody>\n",
       "    <tr>\n",
       "      <th>0</th>\n",
       "      <td>1.47</td>\n",
       "      <td>52.21</td>\n",
       "    </tr>\n",
       "    <tr>\n",
       "      <th>1</th>\n",
       "      <td>1.50</td>\n",
       "      <td>53.12</td>\n",
       "    </tr>\n",
       "    <tr>\n",
       "      <th>2</th>\n",
       "      <td>1.52</td>\n",
       "      <td>54.48</td>\n",
       "    </tr>\n",
       "    <tr>\n",
       "      <th>3</th>\n",
       "      <td>1.55</td>\n",
       "      <td>55.84</td>\n",
       "    </tr>\n",
       "    <tr>\n",
       "      <th>4</th>\n",
       "      <td>1.57</td>\n",
       "      <td>57.20</td>\n",
       "    </tr>\n",
       "  </tbody>\n",
       "</table>\n",
       "</div>"
      ],
      "text/plain": [
       "   Height  Weight\n",
       "0    1.47   52.21\n",
       "1    1.50   53.12\n",
       "2    1.52   54.48\n",
       "3    1.55   55.84\n",
       "4    1.57   57.20"
      ]
     },
     "execution_count": 2,
     "metadata": {},
     "output_type": "execute_result"
    }
   ],
   "source": [
    "data = pd.read_csv(\"../input/heights-and-weights/data.csv\")\n",
    "data.head(5)"
   ]
  },
  {
   "cell_type": "markdown",
   "id": "bc5574e6",
   "metadata": {
    "papermill": {
     "duration": 0.01947,
     "end_time": "2022-04-03T15:45:28.542928",
     "exception": false,
     "start_time": "2022-04-03T15:45:28.523458",
     "status": "completed"
    },
    "tags": []
   },
   "source": [
    "### Defining dpeendent and independent variables\n",
    "- X : idependent variable is going to be (Height)\n",
    "- Y : dependent variable is going to be (Weight)\n",
    "\n"
   ]
  },
  {
   "cell_type": "code",
   "execution_count": 3,
   "id": "db2a801f",
   "metadata": {
    "execution": {
     "iopub.execute_input": "2022-04-03T15:45:28.586401Z",
     "iopub.status.busy": "2022-04-03T15:45:28.585431Z",
     "iopub.status.idle": "2022-04-03T15:45:28.593341Z",
     "shell.execute_reply": "2022-04-03T15:45:28.593899Z",
     "shell.execute_reply.started": "2022-04-03T15:44:30.749841Z"
    },
    "papermill": {
     "duration": 0.031296,
     "end_time": "2022-04-03T15:45:28.594085",
     "exception": false,
     "start_time": "2022-04-03T15:45:28.562789",
     "status": "completed"
    },
    "tags": []
   },
   "outputs": [],
   "source": [
    "X = data[\"Height\"].values\n",
    "Y = data[\"Weight\"].values"
   ]
  },
  {
   "cell_type": "markdown",
   "id": "87d56a93",
   "metadata": {
    "papermill": {
     "duration": 0.019539,
     "end_time": "2022-04-03T15:45:28.633590",
     "exception": false,
     "start_time": "2022-04-03T15:45:28.614051",
     "status": "completed"
    },
    "tags": []
   },
   "source": [
    "### tesing training and splitting data\n",
    "- with reshaping the data"
   ]
  },
  {
   "cell_type": "code",
   "execution_count": 4,
   "id": "d7fe5b51",
   "metadata": {
    "execution": {
     "iopub.execute_input": "2022-04-03T15:45:28.677332Z",
     "iopub.status.busy": "2022-04-03T15:45:28.676312Z",
     "iopub.status.idle": "2022-04-03T15:45:28.682122Z",
     "shell.execute_reply": "2022-04-03T15:45:28.682641Z",
     "shell.execute_reply.started": "2022-04-03T15:44:30.875993Z"
    },
    "papermill": {
     "duration": 0.029347,
     "end_time": "2022-04-03T15:45:28.682810",
     "exception": false,
     "start_time": "2022-04-03T15:45:28.653463",
     "status": "completed"
    },
    "tags": []
   },
   "outputs": [],
   "source": [
    "x_train, x_test, y_train, y_test = train_test_split(X,Y, train_size = 0.8, test_size = 0.2, random_state = 24)\n",
    "\n",
    "x_train = x_train.reshape(-1, 1)\n",
    "x_test = x_test.reshape(-1, 1)\n"
   ]
  },
  {
   "cell_type": "markdown",
   "id": "5f36a9f6",
   "metadata": {
    "papermill": {
     "duration": 0.019571,
     "end_time": "2022-04-03T15:45:28.722842",
     "exception": false,
     "start_time": "2022-04-03T15:45:28.703271",
     "status": "completed"
    },
    "tags": []
   },
   "source": [
    "### Creating the linear regression model"
   ]
  },
  {
   "cell_type": "code",
   "execution_count": 5,
   "id": "422d1bb0",
   "metadata": {
    "execution": {
     "iopub.execute_input": "2022-04-03T15:45:28.766777Z",
     "iopub.status.busy": "2022-04-03T15:45:28.765774Z",
     "iopub.status.idle": "2022-04-03T15:45:28.786173Z",
     "shell.execute_reply": "2022-04-03T15:45:28.786770Z",
     "shell.execute_reply.started": "2022-04-03T15:44:30.987906Z"
    },
    "papermill": {
     "duration": 0.044178,
     "end_time": "2022-04-03T15:45:28.786948",
     "exception": false,
     "start_time": "2022-04-03T15:45:28.742770",
     "status": "completed"
    },
    "tags": []
   },
   "outputs": [
    {
     "data": {
      "text/plain": [
       "LinearRegression()"
      ]
     },
     "execution_count": 5,
     "metadata": {},
     "output_type": "execute_result"
    }
   ],
   "source": [
    "model = LinearRegression()\n",
    "model.fit(x_train, y_train)"
   ]
  },
  {
   "cell_type": "markdown",
   "id": "70d3484f",
   "metadata": {
    "papermill": {
     "duration": 0.019901,
     "end_time": "2022-04-03T15:45:28.827134",
     "exception": false,
     "start_time": "2022-04-03T15:45:28.807233",
     "status": "completed"
    },
    "tags": []
   },
   "source": [
    "### Predicting the output based on the regression model above"
   ]
  },
  {
   "cell_type": "code",
   "execution_count": 6,
   "id": "e0b1e219",
   "metadata": {
    "execution": {
     "iopub.execute_input": "2022-04-03T15:45:28.871521Z",
     "iopub.status.busy": "2022-04-03T15:45:28.870477Z",
     "iopub.status.idle": "2022-04-03T15:45:28.874800Z",
     "shell.execute_reply": "2022-04-03T15:45:28.875438Z",
     "shell.execute_reply.started": "2022-04-03T15:44:31.078735Z"
    },
    "papermill": {
     "duration": 0.028289,
     "end_time": "2022-04-03T15:45:28.875620",
     "exception": false,
     "start_time": "2022-04-03T15:45:28.847331",
     "status": "completed"
    },
    "tags": []
   },
   "outputs": [],
   "source": [
    "y_predict = model.predict(x_test)"
   ]
  },
  {
   "cell_type": "markdown",
   "id": "95720dcf",
   "metadata": {
    "papermill": {
     "duration": 0.020014,
     "end_time": "2022-04-03T15:45:28.916477",
     "exception": false,
     "start_time": "2022-04-03T15:45:28.896463",
     "status": "completed"
    },
    "tags": []
   },
   "source": [
    "### Checking the accuracy of training data"
   ]
  },
  {
   "cell_type": "code",
   "execution_count": 7,
   "id": "6d5d688a",
   "metadata": {
    "execution": {
     "iopub.execute_input": "2022-04-03T15:45:28.961209Z",
     "iopub.status.busy": "2022-04-03T15:45:28.960091Z",
     "iopub.status.idle": "2022-04-03T15:45:28.966866Z",
     "shell.execute_reply": "2022-04-03T15:45:28.967544Z",
     "shell.execute_reply.started": "2022-04-03T15:44:31.157694Z"
    },
    "papermill": {
     "duration": 0.031076,
     "end_time": "2022-04-03T15:45:28.967717",
     "exception": false,
     "start_time": "2022-04-03T15:45:28.936641",
     "status": "completed"
    },
    "tags": []
   },
   "outputs": [
    {
     "data": {
      "text/plain": [
       "0.9892856882784286"
      ]
     },
     "execution_count": 7,
     "metadata": {},
     "output_type": "execute_result"
    }
   ],
   "source": [
    "train_accuracy = model.score(x_train, y_train)\n",
    "train_accuracy"
   ]
  },
  {
   "cell_type": "markdown",
   "id": "4a5f6f7c",
   "metadata": {
    "papermill": {
     "duration": 0.020848,
     "end_time": "2022-04-03T15:45:29.010139",
     "exception": false,
     "start_time": "2022-04-03T15:45:28.989291",
     "status": "completed"
    },
    "tags": []
   },
   "source": [
    "### Checking the accuracy of testing data"
   ]
  },
  {
   "cell_type": "code",
   "execution_count": 8,
   "id": "332bb306",
   "metadata": {
    "execution": {
     "iopub.execute_input": "2022-04-03T15:45:29.055767Z",
     "iopub.status.busy": "2022-04-03T15:45:29.054475Z",
     "iopub.status.idle": "2022-04-03T15:45:29.061801Z",
     "shell.execute_reply": "2022-04-03T15:45:29.062448Z",
     "shell.execute_reply.started": "2022-04-03T15:44:31.290163Z"
    },
    "papermill": {
     "duration": 0.031618,
     "end_time": "2022-04-03T15:45:29.062616",
     "exception": false,
     "start_time": "2022-04-03T15:45:29.030998",
     "status": "completed"
    },
    "tags": []
   },
   "outputs": [
    {
     "data": {
      "text/plain": [
       "0.9837482828088358"
      ]
     },
     "execution_count": 8,
     "metadata": {},
     "output_type": "execute_result"
    }
   ],
   "source": [
    "test_accuracy = model.score(x_test, y_test)\n",
    "test_accuracy"
   ]
  },
  {
   "cell_type": "markdown",
   "id": "dc056c38",
   "metadata": {
    "papermill": {
     "duration": 0.021032,
     "end_time": "2022-04-03T15:45:29.105451",
     "exception": false,
     "start_time": "2022-04-03T15:45:29.084419",
     "status": "completed"
    },
    "tags": []
   },
   "source": [
    "### Plotting"
   ]
  },
  {
   "cell_type": "code",
   "execution_count": 9,
   "id": "7c3cfb4c",
   "metadata": {
    "execution": {
     "iopub.execute_input": "2022-04-03T15:45:29.152875Z",
     "iopub.status.busy": "2022-04-03T15:45:29.151939Z",
     "iopub.status.idle": "2022-04-03T15:45:29.367997Z",
     "shell.execute_reply": "2022-04-03T15:45:29.368463Z",
     "shell.execute_reply.started": "2022-04-03T15:44:31.348932Z"
    },
    "papermill": {
     "duration": 0.24134,
     "end_time": "2022-04-03T15:45:29.368636",
     "exception": false,
     "start_time": "2022-04-03T15:45:29.127296",
     "status": "completed"
    },
    "tags": []
   },
   "outputs": [
    {
     "data": {
      "text/plain": [
       "Text(0.5, 1.0, 'Height & Weight')"
      ]
     },
     "execution_count": 9,
     "metadata": {},
     "output_type": "execute_result"
    },
    {
     "data": {
      "image/png": "[encoded data removed]",
      "text/plain": [
       "<Figure size 432x288 with 1 Axes>"
      ]
     },
     "metadata": {
      "needs_background": "light"
     },
     "output_type": "display_data"
    }
   ],
   "source": [
    "%matplotlib inline\n",
    "plt.scatter(X,Y, color = \"blue\")\n",
    "plt.xlabel(\"Height\")\n",
    "plt.ylabel(\"Weight\")\n",
    "plt.title(\"Height & Weight\")"
   ]
  },
  {
   "cell_type": "markdown",
   "id": "8acfb63c",
   "metadata": {
    "papermill": {
     "duration": 0.022382,
     "end_time": "2022-04-03T15:45:29.414735",
     "exception": false,
     "start_time": "2022-04-03T15:45:29.392353",
     "status": "completed"
    },
    "tags": []
   },
   "source": [
    "### Given a specific heigth of (1.87), predict the weight."
   ]
  },
  {
   "cell_type": "code",
   "execution_count": 10,
   "id": "9bc34749",
   "metadata": {
    "execution": {
     "iopub.execute_input": "2022-04-03T15:45:29.463494Z",
     "iopub.status.busy": "2022-04-03T15:45:29.462512Z",
     "iopub.status.idle": "2022-04-03T15:45:29.469124Z",
     "shell.execute_reply": "2022-04-03T15:45:29.469702Z",
     "shell.execute_reply.started": "2022-04-03T15:44:31.555653Z"
    },
    "papermill": {
     "duration": 0.032643,
     "end_time": "2022-04-03T15:45:29.469875",
     "exception": false,
     "start_time": "2022-04-03T15:45:29.437232",
     "status": "completed"
    },
    "tags": []
   },
   "outputs": [
    {
     "data": {
      "text/plain": [
       "array([75.65514958])"
      ]
     },
     "execution_count": 10,
     "metadata": {},
     "output_type": "execute_result"
    }
   ],
   "source": [
    "import numpy as np\n",
    "new_weight = np.array([1.87]).reshape(-1, 1)\n",
    "\n",
    "model.predict(new_weight)"
   ]
  },
  {
   "cell_type": "markdown",
   "id": "647d8e95",
   "metadata": {
    "papermill": {
     "duration": 0.022715,
     "end_time": "2022-04-03T15:45:29.515173",
     "exception": false,
     "start_time": "2022-04-03T15:45:29.492458",
     "status": "completed"
    },
    "tags": []
   },
   "source": [
    "### Given height of 70cm predict the weight"
   ]
  },
  {
   "cell_type": "code",
   "execution_count": 11,
   "id": "1025127b",
   "metadata": {
    "execution": {
     "iopub.execute_input": "2022-04-03T15:45:29.564791Z",
     "iopub.status.busy": "2022-04-03T15:45:29.563808Z",
     "iopub.status.idle": "2022-04-03T15:45:29.570613Z",
     "shell.execute_reply": "2022-04-03T15:45:29.571252Z",
     "shell.execute_reply.started": "2022-04-03T15:44:31.564389Z"
    },
    "papermill": {
     "duration": 0.033291,
     "end_time": "2022-04-03T15:45:29.571422",
     "exception": false,
     "start_time": "2022-04-03T15:45:29.538131",
     "status": "completed"
    },
    "tags": []
   },
   "outputs": [
    {
     "data": {
      "text/plain": [
       "array([3.79332474])"
      ]
     },
     "execution_count": 11,
     "metadata": {},
     "output_type": "execute_result"
    }
   ],
   "source": [
    "new_weight = np.array([.70]).reshape(-1, 1)\n",
    "\n",
    "model.predict(new_weight)"
   ]
  },
  {
   "cell_type": "markdown",
   "id": "3635cea8",
   "metadata": {
    "papermill": {
     "duration": 0.02305,
     "end_time": "2022-04-03T15:45:29.617577",
     "exception": false,
     "start_time": "2022-04-03T15:45:29.594527",
     "status": "completed"
    },
    "tags": []
   },
   "source": [
    "### plotting actual vs predicted data"
   ]
  },
  {
   "cell_type": "code",
   "execution_count": 12,
   "id": "013e8801",
   "metadata": {
    "execution": {
     "iopub.execute_input": "2022-04-03T15:45:29.667781Z",
     "iopub.status.busy": "2022-04-03T15:45:29.666744Z",
     "iopub.status.idle": "2022-04-03T15:45:29.859102Z",
     "shell.execute_reply": "2022-04-03T15:45:29.858558Z",
     "shell.execute_reply.started": "2022-04-03T15:44:31.578162Z"
    },
    "papermill": {
     "duration": 0.218601,
     "end_time": "2022-04-03T15:45:29.859237",
     "exception": false,
     "start_time": "2022-04-03T15:45:29.640636",
     "status": "completed"
    },
    "tags": []
   },
   "outputs": [
    {
     "data": {
      "text/plain": [
       "Text(0.5, 1.0, 'Actual vs predicted data')"
      ]
     },
     "execution_count": 12,
     "metadata": {},
     "output_type": "execute_result"
    },
    {
     "data": {
      "image/png": "[encoded data removed]",
      "text/plain": [
       "<Figure size 432x288 with 1 Axes>"
      ]
     },
     "metadata": {
      "needs_background": "light"
     },
     "output_type": "display_data"
    }
   ],
   "source": [
    "%matplotlib inline\n",
    "plt.scatter(x_test, y_test, color = \"blue\")\n",
    "plt.scatter(x_test ,y_predict, color = \"red\")\n",
    "plt.title(\"Actual vs predicted data\")"
   ]
  }
 ],
 "metadata": {
  "kernelspec": {
   "display_name": "Python 3",
   "language": "python",
   "name": "python3"
  },
  "language_info": {
   "codemirror_mode": {
    "name": "ipython",
    "version": 3
   },
   "file_extension": ".py",
   "mimetype": "text/x-python",
   "name": "python",
   "nbconvert_exporter": "python",
   "pygments_lexer": "ipython3",
   "version": "3.7.12"
  },
  "papermill": {
   "default_parameters": {},
   "duration": 13.25141,
   "end_time": "2022-04-03T15:45:30.594642",
   "environment_variables": {},
   "exception": null,
   "input_path": "__notebook__.ipynb",
   "output_path": "__notebook__.ipynb",
   "parameters": {},
   "start_time": "2022-04-03T15:45:17.343232",
   "version": "2.3.3"
  }
 },
 "nbformat": 4,
 "nbformat_minor": 5
}
